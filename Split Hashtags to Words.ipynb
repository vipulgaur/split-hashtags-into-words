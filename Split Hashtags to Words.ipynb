{
 "cells": [
  {
   "cell_type": "code",
   "execution_count": 1,
   "metadata": {},
   "outputs": [
    {
     "name": "stdout",
     "output_type": "stream",
     "text": [
      "Input your Sentence with Hashtags :\n",
      "hi there, this program separates words from hashtag #100daysofcodes or #2019IndiaElections or #mycellnumberis8989898989\n",
      "\n",
      "\n",
      ":: Total of 3 hashtags namely ::  ['100daysofcodes', '2019indiaelections', 'mycellnumberis8989898989']\n",
      "\n",
      ":: Un-Seperated Hashtag Words ::  ['100daysofcodes', '2019indiaelections', 'mycellnumberis8989898989']\n",
      "\n",
      ":: Seperated  Hashtag  Words  ::   100 Days Of Codes ,  2019 India Elections , My Cell Number Is 8989898989  \n"
     ]
    }
   ],
   "source": [
    "import re\n",
    "corpus=open(\"Wordlist.txt\").read().splitlines()\n",
    "\n",
    "sentence=input(\"Input your Sentence with Hashtags :\\n\").lower()\n",
    "hashtags=re.findall(r'#(\\w+)', sentence)\n",
    "print(\"\\n\\n:: Total of\",len(hashtags),\"hashtags namely :: \", hashtags)\n",
    "store=[]\n",
    "for hashtag in hashtags:\n",
    "    list_words=[]\n",
    "    words=re.split(r'(\\d+)', hashtag)\n",
    "    def func():\n",
    "        for word in words:\n",
    "            list_words.append(word)\n",
    "        return list_words\n",
    "\n",
    "    word_list=func()\n",
    "\n",
    "    for element in word_list:\n",
    "        if element.isdigit():\n",
    "            store.append(element)\n",
    "        else:\n",
    "            new_word=element\n",
    "            word_seperated, val1, val2='' ,0 ,0\n",
    "            while val2<30:\n",
    "                for each_word in range(len(new_word),0,-1):\n",
    "                    if (new_word[val1:each_word] in corpus):\n",
    "                            word_seperated=word_seperated+' '+new_word[val1:each_word]\n",
    "                            val1=each_word\n",
    "                            break\n",
    "                val2+=1\n",
    "            store.append(word_seperated.strip())\n",
    "    store.append(',')\n",
    "def output(out,inp):\n",
    "    print(\"\\n:: Un-Seperated Hashtag Words :: \",inp)\n",
    "    print(\"\\n:: Seperated  Hashtag  Words  :: \",' '.join(str(x) for x in out).title()[:-1])\n",
    "output(store,hashtags)\n",
    "#demosentence\n",
    "#\"hi there, this program separates words from hashtag #100daysofcodes or #2019IndiaElections or #mycellnumberis8989898989\" \n",
    "# \"or you can directly paste hashtags here like #helloworld #100daysofcode\""
   ]
  },
  {
   "cell_type": "code",
   "execution_count": null,
   "metadata": {},
   "outputs": [],
   "source": []
  }
 ],
 "metadata": {
  "kernelspec": {
   "display_name": "Python 3",
   "language": "python",
   "name": "python3"
  },
  "language_info": {
   "codemirror_mode": {
    "name": "ipython",
    "version": 3
   },
   "file_extension": ".py",
   "mimetype": "text/x-python",
   "name": "python",
   "nbconvert_exporter": "python",
   "pygments_lexer": "ipython3",
   "version": "3.6.8"
  }
 },
 "nbformat": 4,
 "nbformat_minor": 2
}
